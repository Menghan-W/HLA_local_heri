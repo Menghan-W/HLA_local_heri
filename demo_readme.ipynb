{
 "cells": [
  {
   "cell_type": "markdown",
   "id": "4228446a",
   "metadata": {},
   "source": [
    "# Supplementary File: Analysis Code for Local and Global Heritability and Genetic Correlation Estimation\n",
    "\n",
    "This Jupyter Notebook provides the code used for the analyses in our study, focusing on the genetic architecture of the HLA region across ancestries. We use the Total Cholesterol (TC) phenotype in the African American (AFR) population as a running example, with a particular emphasis on the HLA region for local analyses."
   ]
  },
  {
   "cell_type": "markdown",
   "id": "e076419a",
   "metadata": {},
   "source": [
    "## 1. Local Heritability Estimation with KGGSEE EHE\n",
    "\n",
    "This script calculates local heritability using the KGGSEE Effective Heritability Estimator (EHE). It processes Genome-Wide Association Study (GWAS) summary statistics chromosome by chromosome and region by region, with special attention to the HLA region."
   ]
  },
  {
   "cell_type": "code",
   "execution_count": null,
   "id": "fbdae128",
   "metadata": {},
   "outputs": [],
   "source": [
    "%%bash\n",
    "\n",
    "# Define directories\n",
    "# Path to the directory where output files will be saved\n",
    "OUT_DIR=/path/to/output\n",
    "# Path to the directory containing GWAS summary statistics\n",
    "SST_DIR=/path/to/summary_statistics\n",
    "# Path to the directory containing reference panel files (e.g., 1000 Genomes)\n",
    "REF_DIR=/path/to/reference_panels\n",
    "# Path to the directory where the KGGSEE tool is located\n",
    "TOOL_DIR=/path/to/tools\n",
    "\n",
    "# Set parameters for our example\n",
    "POPULATION=AFR\n",
    "REF_POPULATION=afr  # 1000 Genomes African reference population identifier\n",
    "PHENO=TC            # Total Cholesterol phenotype\n",
    "A2=A2               # Column name for the non-effect allele in the summary statistics\n",
    "\n",
    "# Process chromosome 6 for the HLA region\n",
    "chr=6\n",
    "# Define HLA region (region number will depend on your specific genomic segmentation, this is an example)\n",
    "# This numeric identifier corresponds to the HLA region within the chromosome's defined segments.\n",
    "region_hla=13\n",
    "\n",
    "# Run KGGSEE for the HLA region\n",
    "# Ensure kggsee.jar is executable and paths are correctly set.\n",
    "java -Xmx10g -jar ${TOOL_DIR}/kggsee.jar \\\n",
    " --gene-herit \\\n",
    " --out ${OUT_DIR}/${PHENO}/${POPULATION}/chr${chr}/${PHENO}_${POPULATION}_chr${chr}_region${region_hla} \\\n",
    " --vcf-ref ${REF_DIR}/${POPULATION}/1kg.phase3.v5.shapeit2.${REF_POPULATION}.hg19.chr${chr}.vcf.gz \\\n",
    " --sum-file ${SST_DIR}/${POPULATION}/${PHENO}/MVP.${PHENO}.${POPULATION}.chr${chr}.txt \\\n",
    " --nmiss-col SampleSize \\\n",
    " --chrom-col Chromosome \\\n",
    " --pos-col Position \\\n",
    " --p-col PValue \\\n",
    " --a1-col EA \\\n",
    " --a2-col ${A2} \\\n",
    " --freq-a1-col EAF \\\n",
    " --beta-col Effect \\\n",
    " --beta-type 0 \\\n",
    " --se-col SE \\\n",
    " --neargene 5000 \\\n",
    " --buildver hg19 \\\n",
    " --regions-bed /path/to/your/regions.bed \\\n",
    " --ld-block-max-r2 0.15 \\\n",
    " --adjust-gc 1"
   ]
  },
  {
   "cell_type": "markdown",
   "id": "2cd721f5",
   "metadata": {},
   "source": [
    "The `regions.bed` file should contain the coordinates of your regions of interest. Example content for a BED file focusing on the HLA region:\n",
    "```\n",
    "chr6    28477797    33448354    HLA\n",
    "```"
   ]
  },
  {
   "cell_type": "markdown",
   "id": "efd23aae",
   "metadata": {},
   "source": [
    "## 2. Local Genetic Correlation Estimation with LAVA\n",
    "\n",
    "This R script calculates local genetic correlations within the HLA region using LAVA. It focuses on pairwise correlations involving TC in the AFR population."
   ]
  },
  {
   "cell_type": "code",
   "execution_count": null,
   "id": "2284a22f",
   "metadata": {},
   "outputs": [],
   "source": [
    "// Ensure you have an R kernel (e.g., IRkernel) installed and selected for this cell.\n",
    "// Or run this code in an R environment.\n",
    "\n",
    "# Load the LAVA library\n",
    "# Ensure LAVA is installed in your R environment: install.packages(\"LAVA\")\n",
    "library(LAVA)\n",
    "\n",
    "# Process input for the African American population\n",
    "input = process.input(\n",
    "    input.info.file=\"input.info.txt\",       # input info file\n",
    "    sample.overlap.file=NULL,               # sample overlap file (can be set to NULL if there is no overlap)\n",
    "    ref.prefix=\"g1000_afr\",                 # reference genotype data prefix\n",
    "    phenos=c(\"TC\", \"BMI\", \"CIHS\", \"HDL\", \"IDE\", \"LDL\", \"MDD\", \"MaxAlc\", \"SITB\", \"TG\") # subset of phenotypes listed in the input info file that we want to process\n",
    ")\n",
    "\n",
    "# Read in locus info file (e.g., \"hla.locus\")\n",
    "# The locus file (e.g., \"hla.locus\") should define loci with columns: LOC_ID CHR START STOP\n",
    "# Example line for \"hla.locus\":\n",
    "# HLA 6 28477797 33448354\n",
    "loci = read.loci(\"hla.locus\")      # Read the locus definition file.\n",
    "                                     # To inspect, use head(loci). For format details: ?read.loci\n",
    "\n",
    "# Create a locus object for the first locus (e.g., HLA) to prepare it for analysis\n",
    "hla_locus = process.locus(loci[1,], input) # Process the first locus from the file.\n",
    "\n",
    "# Perform univariate analysis for all specified phenotypes in the HLA locus\n",
    "# This step estimates heritability for each phenotype within the defined locus.\n",
    "univ_results = run.univ(hla_locus)\n",
    "\n",
    "# Calculate bivariate local genetic correlations between pairs of phenotypes within the HLA locus\n",
    "bivar_results = run.bivar(hla_locus, param.lim = 1.30)"
   ]
  },
  {
   "cell_type": "markdown",
   "id": "e9457b0f",
   "metadata": {},
   "source": [
    "## 3. Global Heritability Estimation with LDAK\n",
    "\n",
    "This script calculates global (genome-wide) heritability for TC in the AFR population using LDAK."
   ]
  },
  {
   "cell_type": "code",
   "execution_count": null,
   "id": "3d371801",
   "metadata": {},
   "outputs": [],
   "source": [
    "%%bash\n",
    "\n",
    "# Define parameters\n",
    "POP=\"AFR\"\n",
    "PHENO=\"TC\"\n",
    "# Path to the directory containing GWAS summary statistics\n",
    "DATA_DIR=\"/path/to/summary_statistics_for_ldak\"\n",
    "# Path to the directory where LDAK output files will be saved\n",
    "OUT_DIR=\"/path/to/output_ldak_heritability\"\n",
    "\n",
    "# Ensure the output directory exists\n",
    "mkdir -p ${OUT_DIR}/${PHENO}_${POP}\n",
    "\n",
    "# Print information\n",
    "echo \"Calculating global heritability for ${PHENO} in ${POP} population...\"\n",
    "\n",
    "# Run LDAK to calculate SNP heritability\n",
    "# Ensure ldak5.2.linux (or your LDAK version) is executable and in your PATH or specify the full path.\n",
    "ldak5.2.linux \\\n",
    "    --sum-hers ${OUT_DIR}/${PHENO}_${POP}/${PHENO}_${POP}_snpher2 \\\n",
    "    --summary ${DATA_DIR}/${PHENO}_${POP}/${PHENO}_${POP}.txt \\\n",
    "    --tagfile ${DATA_DIR}/bld.ldak.hapmap.${POP}.tagging"
   ]
  },
  {
   "cell_type": "markdown",
   "id": "a34f9d16",
   "metadata": {},
   "source": [
    "Notes for LDAK parameters:\n",
    "\n",
    "* `--summary`: GWAS summary statistics file for the phenotype. It typically requires columns like SNP identifier, A1, A2, N (sample size), and Z-score or Beta/SE.\n",
    "* `--tagfile`: Pre-computed LDAK tagging file for the population. This file captures LD information and is crucial for LDAK's heritability model.\n",
    "* `--sum-hers`: Performs heritability estimation from summary statistics."
   ]
  },
  {
   "cell_type": "markdown",
   "id": "5da5ce59",
   "metadata": {},
   "source": [
    "## 4. Global Genetic Correlation Estimation with LDAK\n",
    "\n",
    "This script calculates global genetic correlations between TC and other phenotypes in the AFR population using LDAK."
   ]
  },
  {
   "cell_type": "code",
   "execution_count": null,
   "id": "ba43ba2a",
   "metadata": {},
   "outputs": [],
   "source": [
    "%%bash\n",
    "\n",
    "# Define directories and parameters\n",
    "# Path to the directory containing GWAS summary statistics for all phenotypes\n",
    "SUM_DIR=\"/path/to/summary_statistics_for_ldak_correlations\"\n",
    "# Path to the directory where LDAK global correlation output files will be saved\n",
    "OUT_DIR=\"/path/to/output_ldak_global_correlations\"\n",
    "POP=\"AFR\"\n",
    "POP_REF=\"afr\" # Reference population code for 1000 Genomes (used in tagging file name convention)\n",
    "\n",
    "# Ensure the output directory exists\n",
    "mkdir -p ${OUT_DIR}/LDAK_${POP}\n",
    "\n",
    "# Define phenotypes list with TC as our focus phenotype\n",
    "PHENOS=(\"TC\" \"BMI\" \"CIHS\" \"HDL\" \"LDL\" \"IDE\" \"SITB\" \"TG\" \"MaxAlc\" \"MDD\")\n",
    "\n",
    "# Calculate genetic correlation between TC and each other phenotype\n",
    "for PHENO2 in \"${PHENOS[@]}\"; do\n",
    "    if [ \"$PHENO2\" != \"TC\" ]; then\n",
    "        echo \"Calculating global genetic correlation between TC and ${PHENO2} in ${POP} population...\"\n",
    "        \n",
    "        # Ensure ldak5.2.linux (or your LDAK version) is executable and in your PATH or specify the full path.\n",
    "        ldak5.2.linux \\\n",
    "            --sum-cors ${OUT_DIR}/LDAK_${POP}/TC_${PHENO2}_${POP}_gencor \\\n",
    "            --summary ${SUM_DIR}/TC_${POP}.txt \\\n",
    "            --summary2 ${SUM_DIR}/${PHENO2}_${POP}.txt \\\n",
    "            --tagfile ${SUM_DIR}/ldak.thin.hapmap.${POP_REF}.tagging\n",
    "    fi\n",
    "done"
   ]
  },
  {
   "cell_type": "markdown",
   "id": "661fd34d",
   "metadata": {},
   "source": [
    "Notes for LDAK parameters in loop:\n",
    "\n",
    "* `--tagfile`: Pre-computed LDAK tagging file (thinned version often used for correlations)."
   ]
  },
  {
   "cell_type": "markdown",
   "id": "69e5055c",
   "metadata": {},
   "source": [
    "## Tool Documentation\n",
    "\n",
    "For detailed information on the data format requirements and further options for each tool, please refer to their respective documentation:\n",
    "* **KGGSEE EHE:** [https://kggsee.readthedocs.io/en/latest/detailed_document.html#ehe-gene-based-heritability-estimation](https://kggsee.readthedocs.io/en/latest/detailed_document.html#ehe-gene-based-heritability-estimation)\n",
    "* **LAVA:** [https://github.com/josefin-werme/LAVA](https://github.com/josefin-werme/LAVA)\n",
    "* **LDAK:** [https://dougspeed.com/ldak/](https://dougspeed.com/ldak/)"
   ]
  }
 ],
 "metadata": {
  "kernelspec": {
   "display_name": "Python 3 (ipykernel)",
   "language": "python",
   "name": "python3"
  },
  "language_info": {
   "codemirror_mode": {
    "name": "ipython",
    "version": 3
   },
   "file_extension": ".py",
   "mimetype": "text/x-python",
   "name": "python",
   "nbconvert_exporter": "python",
   "pygments_lexer": "ipython3",
   "version": "3.9.7"
  }
 },
 "nbformat": 4,
 "nbformat_minor": 5
}
